{
  "nbformat": 4,
  "nbformat_minor": 0,
  "metadata": {
    "colab": {
      "provenance": [],
      "include_colab_link": true
    },
    "kernelspec": {
      "name": "python3",
      "display_name": "Python 3"
    },
    "language_info": {
      "name": "python"
    }
  },
  "cells": [
    {
      "cell_type": "markdown",
      "metadata": {
        "id": "view-in-github",
        "colab_type": "text"
      },
      "source": [
        "<a href=\"https://colab.research.google.com/github/jrigottiedu/TT-252813-Data_Analytics/blob/main/Actividad_2_Repaso_en_Python.ipynb\" target=\"_parent\"><img src=\"https://colab.research.google.com/assets/colab-badge.svg\" alt=\"Open In Colab\"/></a>"
      ]
    },
    {
      "cell_type": "markdown",
      "source": [
        "#1. Propiedades de Tipos de Datos"
      ],
      "metadata": {
        "id": "sX3HqGZ13I0S"
      }
    },
    {
      "cell_type": "markdown",
      "source": [
        "Repasemos cuáles son los tipos de datos nativos en Python más utilizados."
      ],
      "metadata": {
        "id": "CTS95uKOhYKz"
      }
    },
    {
      "cell_type": "markdown",
      "source": [
        "## Tipos de Datos Simples\n",
        "* **int:** Números enteros. Ejemplo: `x = 5`\n",
        "* **float:** Números de punto flotante. Ejemplo: `y = 3.14`\n",
        "* **str:** Cadenas de texto. Ejemplo: `nombre = \"Alice\"`\n",
        "* **bool:** Valores booleanos (`True`/`False`)."
      ],
      "metadata": {
        "id": "Sqixkjoa_UxI"
      }
    },
    {
      "cell_type": "markdown",
      "source": [
        "##Tipos de Datos Complejos"
      ],
      "metadata": {
        "id": "_O3RXznRBudq"
      }
    },
    {
      "cell_type": "markdown",
      "source": [
        "\n",
        "* **list:** Colección ordenada y mutable. Ejemplo: `lista = [1, 2, 3]`\n",
        "* **tuple:** Colección ordenada e inmutable. Ejemplo: `tupla = (1, 2, 3)`\n",
        "* **dict:** Colección de pares clave-valor. Ejemplo: `diccionario = {\"clave1\": \"valor1\", \"clave2\": \"valor2\"}`\n",
        "* **set:** Colección desordenada de elementos únicos. Ejemplo: {1, 2, 3}\n",
        "* **frozenset:** Colección desordenada de elementos únicos e inmutable. Ejemplo: `frozenset({1, 2, 3})`"
      ],
      "metadata": {
        "id": "lOX_Q4OaADgY"
      }
    },
    {
      "cell_type": "markdown",
      "source": [
        "###Ejercicios\n",
        "1. Crear una lista con varios tipos de datos y acceder a sus elementos.\n",
        "2. Crear un diccionario y acceder a sus valores por clave."
      ],
      "metadata": {
        "id": "2ptdK6CxA5C9"
      }
    },
    {
      "cell_type": "code",
      "source": [
        "# Ejercicio de lista\n",
        "mi_lista = [1, \"texto\", 3.14, True]\n",
        "print(mi_lista[1])  # Salida: texto\n"
      ],
      "metadata": {
        "id": "l9niXx9qA-fG",
        "colab": {
          "base_uri": "https://localhost:8080/"
        },
        "outputId": "c317f78b-1d9e-41d4-8fa5-8f25cbf72850"
      },
      "execution_count": null,
      "outputs": [
        {
          "output_type": "stream",
          "name": "stdout",
          "text": [
            "texto\n"
          ]
        }
      ]
    },
    {
      "cell_type": "code",
      "source": [
        "# Ejercicio de diccionario\n",
        "mi_diccionario = {\"nombre\": \"Alicia\", \"edad\": 30}\n",
        "print(mi_diccionario[\"nombre\"])  # Salida: Alicia"
      ],
      "metadata": {
        "id": "7Rgzw9ThdwPC",
        "colab": {
          "base_uri": "https://localhost:8080/"
        },
        "outputId": "8d0d72ce-096c-411c-ae14-91a00ad18e84"
      },
      "execution_count": null,
      "outputs": [
        {
          "output_type": "stream",
          "name": "stdout",
          "text": [
            "Alicia\n"
          ]
        }
      ]
    },
    {
      "cell_type": "markdown",
      "source": [
        "##2. OPERADORES\n",
        "Son símbolos que se aplican a uno o varios operandos en una expresión o instrucción con el fin de obtener cierto resultado"
      ],
      "metadata": {
        "id": "kJTRrXuu_skK"
      }
    },
    {
      "cell_type": "markdown",
      "source": [
        "###2.1. OPERADORES ARITMÉTICOS"
      ],
      "metadata": {
        "id": "Q1Ort25CB2BG"
      }
    },
    {
      "cell_type": "markdown",
      "metadata": {
        "id": "mHxvXjIJz-LI"
      },
      "source": [
        "\n",
        "- suma +\n",
        "- resta -\n",
        "- multiplicación *\n",
        "- potencia **\n",
        "- división /\n",
        "- división entera //\n",
        "- módulo (resto de la división) %\n",
        "\n",
        "\n"
      ]
    },
    {
      "cell_type": "markdown",
      "source": [
        "###2.2. OPERADORES DE ASIGNACIÓN"
      ],
      "metadata": {
        "id": "F3tEAGjaB3xf"
      }
    },
    {
      "cell_type": "markdown",
      "metadata": {
        "id": "jonq0jC616wM"
      },
      "source": [
        "\n",
        "Dada una variable, puedo asignarle un valor, escribiendo\n",
        "\n",
        "\n",
        "a = 5 # el operador **igual a**\n",
        "\n",
        "\n",
        "a += 4 # toma el valor actual de a y le suma 4 -> ahora vale 9  \n",
        "\n",
        "\n",
        "a -= 3 # toma el valor actual de a y le resta 3 -> ahora vale 6\n",
        "\n",
        "\n",
        "a *= 2 # toma el valor actual de a y lo multiplica por 2 -> 12\n",
        "\n",
        "\n",
        "a /= 3\n",
        "\n",
        "\n",
        "a //=3\n",
        "\n",
        "\n",
        "a %= 3"
      ]
    },
    {
      "cell_type": "markdown",
      "source": [
        "###2.3. OPERADORES RELACIONALES"
      ],
      "metadata": {
        "id": "v5MAeoSuB66_"
      }
    },
    {
      "cell_type": "markdown",
      "metadata": {
        "id": "jbk5FVll4QpA"
      },
      "source": [
        "\n",
        "Devuelven un valor booleano. Se usan para crear los condicionales y poder alterar el flujo de nuestro programa\n",
        "Dados a y b\n",
        "\n",
        "a == b # si son iguales -> Devuelve True o False\n",
        "\n",
        "a != b # a no es igual a b\n",
        "\n",
        "a < b # a es menor que b\n",
        "\n",
        "a > b # a es mayor que b\n",
        "\n",
        "a <= b # a es menor o igual que b\n",
        "\n",
        "a >= b # a es mayor o igual que b\n",
        "\n",
        "\n",
        "\n",
        "\n"
      ]
    },
    {
      "cell_type": "markdown",
      "source": [
        "###2.4. OPERADORES LÓGICOS o BOOLEANOS"
      ],
      "metadata": {
        "id": "J3MSNMX5B9FJ"
      }
    },
    {
      "cell_type": "markdown",
      "metadata": {
        "id": "9XELs8o55mr6"
      },
      "source": [
        "\n",
        "\n",
        "and # evalúa si ambos operandos son True\n",
        "\n",
        "or # evalúa si al menos uno de los operandos es True\n",
        "\n",
        "not # cambia el valor del operando"
      ]
    },
    {
      "cell_type": "markdown",
      "source": [
        "###2.5. OPERADORES DE PERTENENCIA"
      ],
      "metadata": {
        "id": "d5HXiibCB_KL"
      }
    },
    {
      "cell_type": "markdown",
      "source": [
        "\n",
        "\n",
        "Devuelve True o False dependiendo de si un elemento pertenece o no a una secuencia de datos\n",
        "\n",
        "IN\n",
        "\n",
        "NOT IN"
      ],
      "metadata": {
        "id": "tgx2iKtOMx3I"
      }
    }
  ]
}